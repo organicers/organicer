{
 "cells": [
  {
   "cell_type": "markdown",
   "metadata": {},
   "source": [
    "# Seat Assignment\n",
    "\n",
    "Create a software that performs allocation of staff to seats in the company's office trying to group people allocated to the same projects to seat together, but also enforcing some restriction rules.\n",
    "\n",
    "## Problem definition (from Kory)\n",
    "\n",
    "1. Same team should seat together\n",
    "2. Minimize the number of displacements in current seat assignment when projects change\n",
    "3. Avoid standing desks on Corners of Aisle\n",
    "4. No more than 2 standing desks per row\n",
    "5. Some people have fixed seats (e.g. partners)\n",
    "6. Rows should have 3 or 4 people allocated (tops)\n",
    "7. People can manifest a preference for more quiet seats (e.g. Brooklyn: C > 3 > 5)\n",
    "8. People that should be split apart in different floors (e.g. at least someone from ops in each floor)\n",
    "9. Vacation info\n",
    "10. Visitors\n",
    "\n",
    "Spreadsheet: https://docs.google.com/spreadsheets/d/1olVWpxeUghcEgNSW4ZNBDN07eu3dN0iv5L9aki1dVvk/edit#gid=0"
   ]
  },
  {
   "cell_type": "markdown",
   "metadata": {},
   "source": [
    "# Solution Draft (w.i.p.)\n",
    "\n",
    "## Data Model\n",
    "\n",
    "The office seats should be represented as a 2D matrix (could be an adjacency list) of distances. \n",
    "Every rows and columns represent seat IDs, and the cell values are a *logical* distance function between seats."
   ]
  },
  {
   "cell_type": "markdown",
   "metadata": {
    "ExecuteTime": {
     "end_time": "2018-03-14T16:48:25.517791Z",
     "start_time": "2018-03-14T16:48:25.512965Z"
    }
   },
   "source": [
    "Example of distance matrix represented as adjancency list using nested dicts\n",
    "TODO: We still need to define the *logical* distance function and compute the seat map from the spreadsheet"
   ]
  },
  {
   "cell_type": "code",
   "execution_count": 4,
   "metadata": {
    "ExecuteTime": {
     "end_time": "2018-03-14T17:03:27.516165Z",
     "start_time": "2018-03-14T17:03:27.512655Z"
    }
   },
   "outputs": [],
   "source": [
    "# c<Id> = seat\n",
    "AISLE = '_'\n",
    "seat_layout = [['c1','c2','c3','c4'], # first table\n",
    "               ['c5','c6','c7','c8'], # adjacent table\n",
    "               [AISLE],                 # corridor, aisle\n",
    "               ['c9','c10','c11','c12'],\n",
    "               ['c13','c14','c15','c16']]"
   ]
  },
  {
   "cell_type": "code",
   "execution_count": 55,
   "metadata": {
    "ExecuteTime": {
     "end_time": "2018-03-14T17:18:11.514917Z",
     "start_time": "2018-03-14T17:18:11.494208Z"
    }
   },
   "outputs": [],
   "source": [
    "class Seat(object):\n",
    "    def __init__(self, _id, row, col):\n",
    "        self.id = _id\n",
    "        self.row = row\n",
    "        self.col = col\n",
    "    def __str__(self):\n",
    "        return repr(self)\n",
    "    def __repr__(self):\n",
    "        return \"Seat('{0}', {1}, {2})\".format(self.id, self.row, self.col)\n",
    "        \n",
    "def build_seat_coordinates(layout):\n",
    "    coordinate_map = {}\n",
    "    aisle_counter =0\n",
    "    for table_index, seat_list in enumerate(seat_layout):\n",
    "        if seat_list[0]== AISLE:\n",
    "            aisle_counter += 1\n",
    "            continue\n",
    "        for seat_index,seat_id in enumerate(seat_list):\n",
    "            coordinate_map[seat_id] = Seat(_id=seat_id,\n",
    "                                           row=table_index+aisle_counter,\n",
    "                                           col=seat_index)\n",
    "            \n",
    "            \n",
    "    return coordinate_map"
   ]
  },
  {
   "cell_type": "code",
   "execution_count": 56,
   "metadata": {
    "ExecuteTime": {
     "end_time": "2018-03-14T17:18:11.899119Z",
     "start_time": "2018-03-14T17:18:11.896026Z"
    }
   },
   "outputs": [],
   "source": [
    "coord_map = build_seat_coordinates(seat_layout)"
   ]
  },
  {
   "cell_type": "code",
   "execution_count": 57,
   "metadata": {
    "ExecuteTime": {
     "end_time": "2018-03-14T17:18:12.098041Z",
     "start_time": "2018-03-14T17:18:12.094143Z"
    }
   },
   "outputs": [
    {
     "data": {
      "text/plain": [
       "{'c1': Seat('c1', 0, 0),\n",
       " 'c10': Seat('c10', 4, 1),\n",
       " 'c11': Seat('c11', 4, 2),\n",
       " 'c12': Seat('c12', 4, 3),\n",
       " 'c13': Seat('c13', 5, 0),\n",
       " 'c14': Seat('c14', 5, 1),\n",
       " 'c15': Seat('c15', 5, 2),\n",
       " 'c16': Seat('c16', 5, 3),\n",
       " 'c2': Seat('c2', 0, 1),\n",
       " 'c3': Seat('c3', 0, 2),\n",
       " 'c4': Seat('c4', 0, 3),\n",
       " 'c5': Seat('c5', 1, 0),\n",
       " 'c6': Seat('c6', 1, 1),\n",
       " 'c7': Seat('c7', 1, 2),\n",
       " 'c8': Seat('c8', 1, 3),\n",
       " 'c9': Seat('c9', 4, 0)}"
      ]
     },
     "execution_count": 57,
     "metadata": {},
     "output_type": "execute_result"
    }
   ],
   "source": [
    "coord_map # similar to cartesian coordinates"
   ]
  },
  {
   "cell_type": "code",
   "execution_count": 60,
   "metadata": {
    "ExecuteTime": {
     "end_time": "2018-03-14T17:19:21.320403Z",
     "start_time": "2018-03-14T17:19:21.308285Z"
    }
   },
   "outputs": [],
   "source": [
    "from itertools import combinations\n",
    "from math import sqrt,pow\n",
    "\n",
    "def distances_from_coordinates(coord_map):\n",
    "    distance_map = {}\n",
    "    all_seats = coord_map.values()\n",
    "    for src,dst in combinations(all_seats, 2):\n",
    "        distance = sqrt(abs(src.row - dst.row)**2 + abs(src.col - dst.col)**2)\n",
    "        try:\n",
    "            distance_map[src.id][dst.id]=distance\n",
    "        except KeyError:\n",
    "            distance_map[src.id]={dst.id: distance}\n",
    "    return distance_map\n",
    "\n",
    "distance_map = distances_from_coordinates(coord_map)"
   ]
  },
  {
   "cell_type": "code",
   "execution_count": 62,
   "metadata": {
    "ExecuteTime": {
     "end_time": "2018-03-14T17:19:39.895174Z",
     "start_time": "2018-03-14T17:19:39.891959Z"
    }
   },
   "outputs": [
    {
     "data": {
      "text/plain": [
       "{'c10': 4.123105625617661,\n",
       " 'c11': 4.47213595499958,\n",
       " 'c12': 5.0,\n",
       " 'c13': 5.0,\n",
       " 'c14': 5.0990195135927845,\n",
       " 'c15': 5.385164807134504,\n",
       " 'c16': 5.830951894845301,\n",
       " 'c2': 1.0,\n",
       " 'c3': 2.0,\n",
       " 'c4': 3.0,\n",
       " 'c5': 1.0,\n",
       " 'c6': 1.4142135623730951,\n",
       " 'c7': 2.23606797749979,\n",
       " 'c8': 3.1622776601683795,\n",
       " 'c9': 4.0}"
      ]
     },
     "execution_count": 62,
     "metadata": {},
     "output_type": "execute_result"
    }
   ],
   "source": [
    "distance_map['c1']"
   ]
  },
  {
   "cell_type": "markdown",
   "metadata": {},
   "source": [
    "# TODO next\n",
    "\n",
    "## Define Teams\n",
    "TEAMS\n",
    "Team1: P1,P2,P3\n",
    "Team2: P4, P5\n",
    "Team3: P6,P7,P8\n",
    "\n",
    "## Define Team Assignment to initial seats\n",
    "Solution1: T1->a1=P1, a2=P2,  b1=P3  (team assignment)\n",
    "                 T2-> a4=P4, a3=P5\n",
    "                 T3-> b3=P6,b4=P7,bb2=P8\n",
    "T1 (7.3)\n",
    "T2 (1)\n",
    "T3 (4 )\n",
    "Total unhappiness =  12.3\n",
    "\n",
    "Solution2:\n",
    "T1(4)\n",
    "T3(4)\n",
    "T2(10)\n",
    "TU = 18\n",
    "\n",
    "## Port functions from pseudo code to Python\n",
    "unhappiness_function_per_team =  avg. distance between members\n",
    "n(n-1)/2 = number of distances we need to calculate\n",
    "\n",
    "Pseudocode:\n",
    "inputs: Distance MAP, unhappy_func, Teams\n",
    "def team_unhappiness(team, team_assignment,  distance_map):\n",
    "    all_distances = []\n",
    "    for seat, person_pivot in team_assigment:\n",
    "        for other_person in team:\n",
    "                  all_distances.append( MAP[person_pivot, other_person] )\n",
    "    return average(all_distances)\n",
    "\n",
    "\n",
    "def opt_team_unhappiness(team, team_assignment,  distance_map):\n",
    "    all_distances = [ ] \n",
    "    team_2x2_combinations = combine_2_2(team)\n",
    "    for p1, p2 in team_2x2_combinations:\n",
    "         all_distances.append( MAP[p1,p2] )\n",
    "    return average(all_distances)\n",
    "\n",
    " \n",
    "Minimize Unhappiness function\n",
    "\n",
    "## Create Genetic Algorithm to optimize happiness function"
   ]
  },
  {
   "cell_type": "code",
   "execution_count": null,
   "metadata": {},
   "outputs": [],
   "source": []
  }
 ],
 "metadata": {
  "hide_input": false,
  "kernelspec": {
   "display_name": "Python 3",
   "language": "python",
   "name": "python3"
  },
  "language_info": {
   "codemirror_mode": {
    "name": "ipython",
    "version": 3
   },
   "file_extension": ".py",
   "mimetype": "text/x-python",
   "name": "python",
   "nbconvert_exporter": "python",
   "pygments_lexer": "ipython3",
   "version": "3.6.0"
  },
  "toc": {
   "colors": {
    "hover_highlight": "#DAA520",
    "navigate_num": "#000000",
    "navigate_text": "#333333",
    "running_highlight": "#FF0000",
    "selected_highlight": "#FFD700",
    "sidebar_border": "#EEEEEE",
    "wrapper_background": "#FFFFFF"
   },
   "moveMenuLeft": true,
   "nav_menu": {
    "height": "189px",
    "width": "252px"
   },
   "navigate_menu": true,
   "number_sections": true,
   "sideBar": true,
   "threshold": 4,
   "toc_cell": false,
   "toc_section_display": "block",
   "toc_window_display": false,
   "widenNotebook": false
  }
 },
 "nbformat": 4,
 "nbformat_minor": 2
}
